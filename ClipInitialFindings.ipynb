{
 "cells": [
  {
   "cell_type": "code",
   "execution_count": 12,
   "metadata": {},
   "outputs": [],
   "source": [
    "import os\n",
    "import pandas as pd\n",
    "import numpy as np\n",
    "import matplotlib as plt\n",
    "import torch\n",
    "import cv2\n",
    "from transformers import CLIPProcessor, CLIPModel"
   ]
  },
  {
   "cell_type": "code",
   "execution_count": 3,
   "metadata": {},
   "outputs": [
    {
     "name": "stderr",
     "output_type": "stream",
     "text": [
      "C:\\Users\\AMD\\AppData\\Local\\Packages\\PythonSoftwareFoundation.Python.3.12_qbz5n2kfra8p0\\LocalCache\\local-packages\\Python312\\site-packages\\huggingface_hub\\file_download.py:139: UserWarning: `huggingface_hub` cache-system uses symlinks by default to efficiently store duplicated files but your machine does not support them in C:\\Users\\AMD\\.cache\\huggingface\\hub\\models--openai--clip-vit-base-patch32. Caching files will still work but in a degraded version that might require more space on your disk. This warning can be disabled by setting the `HF_HUB_DISABLE_SYMLINKS_WARNING` environment variable. For more details, see https://huggingface.co/docs/huggingface_hub/how-to-cache#limitations.\n",
      "To support symlinks on Windows, you either need to activate Developer Mode or to run Python as an administrator. In order to activate developer mode, see this article: https://docs.microsoft.com/en-us/windows/apps/get-started/enable-your-device-for-development\n",
      "  warnings.warn(message)\n"
     ]
    }
   ],
   "source": [
    "model = CLIPModel.from_pretrained(\"openai/clip-vit-base-patch32\")\n",
    "processor = CLIPProcessor.from_pretrained(\"openai/clip-vit-base-patch32\")"
   ]
  },
  {
   "cell_type": "code",
   "execution_count": 30,
   "metadata": {},
   "outputs": [],
   "source": [
    "# Load Mean Opinion Scores from CSV File\n",
    "df = pd.read_csv('All_Stimuli_MOS_and_MLE.csv')\n",
    "df['Stimuli'] = df['Stimuli'].str.replace('Chameleon', 'Cameleon')"
   ]
  },
  {
   "cell_type": "code",
   "execution_count": null,
   "metadata": {},
   "outputs": [
    {
     "ename": "ModuleNotFoundError",
     "evalue": "No module named 'clip'",
     "output_type": "error",
     "traceback": [
      "\u001b[1;31m---------------------------------------------------------------------------\u001b[0m",
      "\u001b[1;31mModuleNotFoundError\u001b[0m                       Traceback (most recent call last)",
      "Cell \u001b[1;32mIn[36], line 2\u001b[0m\n\u001b[0;32m      1\u001b[0m \u001b[38;5;28;01mimport\u001b[39;00m \u001b[38;5;21;01mtorch\u001b[39;00m\n\u001b[1;32m----> 2\u001b[0m \u001b[38;5;28;01mimport\u001b[39;00m \u001b[38;5;21;01mclip\u001b[39;00m\n\u001b[0;32m      3\u001b[0m \u001b[38;5;28;01mfrom\u001b[39;00m \u001b[38;5;21;01mPIL\u001b[39;00m \u001b[38;5;28;01mimport\u001b[39;00m Image\n\u001b[0;32m      5\u001b[0m \u001b[38;5;66;03m# Load the model and preprocessing\u001b[39;00m\n",
      "\u001b[1;31mModuleNotFoundError\u001b[0m: No module named 'clip'"
     ]
    }
   ],
   "source": [
    "from PIL import Image\n",
    "\n",
    "# Load the model and preprocessing\n",
    "model, preprocess = load(\"ViT-B/32\", device=\"cuda\" if torch.cuda.is_available() else \"cpu\")\n",
    "\n",
    "# In your loop:\n",
    "for group_name, image_paths in grouped_images.items():\n",
    "    print(f\"Group {group_name}:\")\n",
    "    entropy_list = list()\n",
    "    for path in image_paths:\n",
    "        print(f\"  {path}\")\n",
    "        extracted_name = os.path.splitext(os.path.basename(path))[0]\n",
    "\n",
    "        # MOS Score\n",
    "        matching_rows = df[df['Stimuli'].str.startswith(extracted_name)]\n",
    "        mos_r = matching_rows[matching_rows['Stimuli'].str.endswith('_R')]['MOS'].values[0]\n",
    "        mos_z = matching_rows[matching_rows['Stimuli'].str.endswith('_Z')]['MOS'].values[0]\n",
    "        avg_mos = (mos_r + mos_z) / 2\n",
    "\n",
    "        # Entropy Score\n",
    "        image = imread(path, as_gray=False)\n",
    "        entropy = shannon_entropy(image)\n",
    "        entropy_list.append(entropy)\n",
    "\n",
    "        # CLIP Score\n",
    "        # Convert to PIL Image for CLIP preprocessing\n",
    "        pil_image = Image.open(path)\n",
    "        \n",
    "        # Preprocess the image\n",
    "        image = preprocess(pil_image).unsqueeze(0).to(model.device)\n",
    "\n",
    "        # Get text input\n",
    "        text_from_row = matching_rows[matching_rows['Stimuli'].str.endswith('_R')]['Source_model'].values[0]\n",
    "        text_input = clip.tokenize([text_from_row]).to(model.device)\n",
    "\n",
    "        # Get image and text features\n",
    "        with torch.no_grad():\n",
    "            image_features = model.encode_image(image)\n",
    "            text_features = model.encode_text(text_input)\n",
    "\n",
    "            # Normalize features\n",
    "            image_features /= image_features.norm(dim=-1, keepdim=True)\n",
    "            text_features /= text_features.norm(dim=-1, keepdim=True)\n",
    "\n",
    "            # Calculate similarity\n",
    "            similarity_score = (image_features @ text_features.T).squeeze().item()\n",
    "            print(f\"CLIP score: {similarity_score}\")"
   ]
  }
 ],
 "metadata": {
  "kernelspec": {
   "display_name": "Python 3",
   "language": "python",
   "name": "python3"
  },
  "language_info": {
   "codemirror_mode": {
    "name": "ipython",
    "version": 3
   },
   "file_extension": ".py",
   "mimetype": "text/x-python",
   "name": "python",
   "nbconvert_exporter": "python",
   "pygments_lexer": "ipython3",
   "version": "3.12.7"
  }
 },
 "nbformat": 4,
 "nbformat_minor": 2
}
